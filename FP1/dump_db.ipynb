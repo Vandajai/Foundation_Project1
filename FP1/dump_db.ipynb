{
 "cells": [
  {
   "cell_type": "code",
   "execution_count": null,
   "metadata": {},
   "outputs": [],
   "source": [
    "import csv\n",
    "import sqlite3\n",
    "import pandas as pd\n",
    "\n",
    "def dump_csv_to_sqlite(csv_file, db_file, table_name):\n",
    "    # Connect to the SQLite database\n",
    "    conn = sqlite3.connect(db_file)\n",
    "    cursor = conn.cursor()\n",
    "\n",
    "    # Create the table\n",
    "    cursor.execute('''\n",
    "        CREATE TABLE IF NOT EXISTS {} (\n",
    "            id INTEGER PRIMARY KEY,\n",
    "            clean_current_role TEXT,\n",
    "            clean_about_me TEXT,\n",
    "            clean_education TEXT,\n",
    "            clean_years INTEGER,\n",
    "            clean_skills TEXT,\n",
    "            clean_experience INTEGER,\n",
    "            text TEXT,\n",
    "            notice_period INTEGER,\n",
    "            expected_ctc INTEGER,\n",
    "            offered_location TEXT,\n",
    "            offered_salary INTEGER,\n",
    "            current_salary INTEGER,\n",
    "            current_location TEXT,\n",
    "            name TEXT,\n",
    "            label INTEGER\n",
    "        )\n",
    "    '''.format(table_name))\n",
    "\n",
    "    # Read data from the CSV file and insert into the table\n",
    "    with open(csv_file, 'r') as file:\n",
    "        reader = csv.DictReader(file)\n",
    "\n",
    "        for row in reader:\n",
    "            cursor.execute('''\n",
    "                INSERT INTO {} (\n",
    "                    clean_current_role,\n",
    "                    clean_about_me,\n",
    "                    clean_education,\n",
    "                    clean_years,\n",
    "                    clean_skills,\n",
    "                    clean_experience,\n",
    "                    text,\n",
    "                    notice_period,\n",
    "                    expected_ctc,\n",
    "                    offered_location,\n",
    "                    offered_salary,\n",
    "                    current_salary,\n",
    "                    current_location,\n",
    "                    name,\n",
    "                    label\n",
    "                ) VALUES (?, ?, ?, ?, ?, ?, ?, ?, ?, ?, ?, ?, ?, ?, ?)\n",
    "            '''.format(table_name),\n",
    "            (\n",
    "                row['Clean_Current Role'],\n",
    "                row['Clean_About me'],\n",
    "                row['Clean_Education'],\n",
    "                int(row['Clean_Years']),\n",
    "                row['Clean_Skills'],\n",
    "                row['Clean_Experience'],\n",
    "                row['TEXT'],\n",
    "                row['Notice Period'],\n",
    "                row['Expected CTC'],\n",
    "                row['Offered Location'],\n",
    "                row['Offered Salary'],\n",
    "                row['Current Salary'],\n",
    "                row['Current Location'],\n",
    "                row['Name'],\n",
    "                row['label']\n",
    "            ))\n",
    "\n",
    "    # Commit the changes and close the connection\n",
    "    conn.commit()\n",
    "    conn.close()\n",
    "\n",
    "    print(\"Data dumped successfully into {}!\".format(db_file))"
   ]
  },
  {
   "cell_type": "code",
   "execution_count": null,
   "metadata": {},
   "outputs": [],
   "source": [
    "# Usage example:\n",
    "# dump_csv_to_sqlite('Employee_data.csv', 'Employee_data.db', 'Employee')"
   ]
  },
  {
   "cell_type": "code",
   "execution_count": null,
   "metadata": {},
   "outputs": [],
   "source": [
    "def load_data_to_dataframe(db_file, table_name):\n",
    "    # Connect to the SQLite database\n",
    "    conn = sqlite3.connect(db_file)\n",
    "\n",
    "    # Read data from the table into a DataFrame\n",
    "    query = 'SELECT * FROM {}'.format(table_name)\n",
    "    df = pd.read_sql_query(query, conn).iloc[:, 1:]\n",
    "\n",
    "    # Close the connection\n",
    "    conn.close()\n",
    "\n",
    "    return df"
   ]
  },
  {
   "cell_type": "code",
   "execution_count": null,
   "metadata": {},
   "outputs": [],
   "source": [
    "# Usage example:\n",
    "df = load_data_to_dataframe('Employee_data.db', 'Employee')"
   ]
  },
  {
   "cell_type": "code",
   "execution_count": null,
   "metadata": {},
   "outputs": [],
   "source": [
    "df.head()"
   ]
  },
  {
   "cell_type": "code",
   "execution_count": null,
   "metadata": {},
   "outputs": [],
   "source": [
    "df.info()"
   ]
  },
  {
   "cell_type": "code",
   "execution_count": null,
   "metadata": {},
   "outputs": [],
   "source": []
  }
 ],
 "metadata": {
  "kernelspec": {
   "display_name": "base",
   "language": "python",
   "name": "python3"
  },
  "language_info": {
   "codemirror_mode": {
    "name": "ipython",
    "version": 3
   },
   "file_extension": ".py",
   "mimetype": "text/x-python",
   "name": "python",
   "nbconvert_exporter": "python",
   "pygments_lexer": "ipython3",
   "version": "3.9.10"
  },
  "orig_nbformat": 4
 },
 "nbformat": 4,
 "nbformat_minor": 2
}
